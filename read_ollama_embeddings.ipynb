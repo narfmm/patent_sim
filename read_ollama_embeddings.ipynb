{
 "cells": [
  {
   "cell_type": "code",
   "execution_count": 31,
   "id": "8fd88149",
   "metadata": {},
   "outputs": [],
   "source": [
    "# Compare a patent abstract or title to list of patents by embeddings\n",
    "# Perry Holman, Ph.D. 10-27-24\n",
    "import ollama\n",
    "import time\n",
    "import pandas as pd\n",
    "import numpy as np\n",
    "from sklearn.metrics.pairwise import cosine_similarity"
   ]
  },
  {
   "cell_type": "code",
   "execution_count": 100,
   "id": "2507d042-b0d2-4ed1-835e-80fdee572eb3",
   "metadata": {},
   "outputs": [],
   "source": [
    "# Read embeddings\n",
    "title_dict = np.load('1m_large_abstract.npy', allow_pickle=True)"
   ]
  },
  {
   "cell_type": "code",
   "execution_count": 27,
   "id": "1a217437-807a-4a91-b020-157fdd2a997b",
   "metadata": {},
   "outputs": [
    {
     "name": "stdout",
     "output_type": "stream",
     "text": [
      "Execution time = 0.001995563507080078\n",
      "Cosine Similarity: -0.005566621219689681\n"
     ]
    }
   ],
   "source": [
    "# Compare My Patent Title Embedding to the other embeddings and find the closest title\n",
    "# I need to track PatentID of closest title, and then find the title from the CSV file\n",
    "# Cosine Simularity\n",
    "\n",
    "def cosine_sim(vec1, vec2):\n",
    "    \"\"\"\n",
    "    Calculates the cosine similarity between two vectors.\n",
    "    \"\"\"\n",
    "    return cosine_similarity([vec1], [vec2])[0][0]\n",
    "\n",
    "start = time.time()\n",
    "similarity = cosine_sim(arr, info_arr)\n",
    "end = time.time()\n",
    "dtime = \"Execution time = \" + str(end - start)\n",
    "print(dtime)\n",
    "\n",
    "print(\"Cosine Similarity:\", similarity)"
   ]
  },
  {
   "cell_type": "code",
   "execution_count": 101,
   "id": "9f3ad1f5-9d9c-4de2-a3dc-a39d68c2a876",
   "metadata": {},
   "outputs": [
    {
     "name": "stdout",
     "output_type": "stream",
     "text": [
      "0\n",
      "13:42:40\n",
      "100000\n",
      "13:43:27\n",
      "200000\n",
      "13:44:13\n",
      "300000\n",
      "13:44:59\n",
      "400000\n",
      "13:45:46\n",
      "500000\n",
      "13:46:33\n",
      "600000\n",
      "13:47:19\n",
      "700000\n",
      "13:48:05\n",
      "800000\n",
      "13:48:52\n",
      "900000\n",
      "13:49:38\n",
      "1000000\n",
      "13:50:24\n",
      "Max Simularity = 0.8274310317514988\n",
      "Patent ID with Max Simularity = 10502806\n",
      "Most simular patent, by abstract is -> Devices and methods are provided where switches associated with a magnetic field sensor are used to provide error information. In particular, a device is provided that includes a magnetic field sensor, a plurality of switches associated with the magnetic field sensor, and a control circuit configured to control the plurality of switches and to provide at least one signal indicative of a fault based on operation of the switches.\n",
      "Execution time = 486.4641318321228\n"
     ]
    }
   ],
   "source": [
    "#Get Embedding for My Patent Title\n",
    "#my_patent_title = 'Switch With Diagnostic Capability'\n",
    "my_patent_title = 'A switch is provided with the ability to diagnose its own operation and provide signals that represent the actuation of \\\n",
    "the switch and various diagnostic outputs that indicate fault conditions or potential fault conditions with regard to either \\\n",
    "the switch or related machinery. A magnetically sensitive component, such as a Hall element, is used to provide an \\\n",
    "analog output signal that is representative of the position of an actuator to which a magnet structure is rigidly attached. \\\n",
    "As the actuator moves in response to an external force, the magnet structure moves with respect to a stationary magnetically sensitive \\\n",
    "component. The analog output from the magnetically sensitive component can be used to determine the position of the switch. Based on information, \\\n",
    "a microprocessor provides a binary output signal indicating whether the switch is actuated or deactuated. In addition, the \\\n",
    "movement of the actuator can be compared to various thresholds to determine the operate point, the overtravel point, the total travel and the velocity of the switch plunger.'\n",
    "#my_patent_title_response = ollama.embeddings(model=\"all-minilm\", prompt=my_patent_title)\n",
    "my_patent_title_response = ollama.embeddings(model=\"mxbai-embed-large\", prompt=my_patent_title)\n",
    "info = list(my_patent_title_response.values())[0]\n",
    "my_patent_title_arr = np.array(info)\n",
    "\n",
    "patents_dict = title_dict.tolist()\n",
    "\n",
    "max_simularity = -10.0\n",
    "max_key = -10\n",
    "\n",
    "start = time.time()\n",
    "\n",
    "my_counter = 0\n",
    "\n",
    "for key, value in patents_dict.items():\n",
    "    if (my_counter % 100000) == 0:\n",
    "        print(my_counter)\n",
    "        t = time.localtime()\n",
    "        current_time = time.strftime(\"%H:%M:%S\", t)\n",
    "        print(current_time)\n",
    "    my_counter += 1\n",
    "    similarity = cosine_sim(my_patent_title_arr, value)\n",
    "    if similarity > max_simularity:\n",
    "        max_simularity = similarity\n",
    "        max_key = key\n",
    "\n",
    "print(\"Max Simularity = \" + str(max_simularity))\n",
    "print(\"Patent ID with Max Simularity = \" + str(max_key))\n",
    "rrr = df.loc[df['patent_id'] == max_key]\n",
    "print(\"Most simular patent, by abstract is -> \" + rrr['patent_abstract'].values[0])\n",
    "end = time.time()\n",
    "dtime = \"Execution time = \" + str(end - start)\n",
    "print(dtime)"
   ]
  },
  {
   "cell_type": "code",
   "execution_count": 102,
   "id": "417b0b53-db60-43ad-8c52-47312a3d65e0",
   "metadata": {},
   "outputs": [
    {
     "data": {
      "text/plain": [
       "'Magnetic field sensor'"
      ]
     },
     "execution_count": 102,
     "metadata": {},
     "output_type": "execute_result"
    }
   ],
   "source": [
    "rrr = df.loc[df['patent_id'] == 10502806]\n",
    "rrr['patent_title'].values[0]"
   ]
  }
 ],
 "metadata": {
  "kernelspec": {
   "display_name": "Python 3 (ipykernel)",
   "language": "python",
   "name": "python3"
  },
  "language_info": {
   "codemirror_mode": {
    "name": "ipython",
    "version": 3
   },
   "file_extension": ".py",
   "mimetype": "text/x-python",
   "name": "python",
   "nbconvert_exporter": "python",
   "pygments_lexer": "ipython3",
   "version": "3.10.9"
  }
 },
 "nbformat": 4,
 "nbformat_minor": 5
}
