{
 "cells": [
  {
   "cell_type": "code",
   "execution_count": 4,
   "id": "eaf88ef8-72b4-4993-962e-7f0911c4c202",
   "metadata": {},
   "outputs": [],
   "source": [
    "#!pip install tqdm"
   ]
  },
  {
   "cell_type": "code",
   "execution_count": 5,
   "id": "8fd88149",
   "metadata": {},
   "outputs": [],
   "source": [
    "import ollama\n",
    "import time\n",
    "import pandas as pd\n",
    "import numpy as np\n",
    "from sklearn.metrics.pairwise import cosine_similarity\n",
    "from numba import jit\n",
    "from tqdm import tqdm"
   ]
  },
  {
   "cell_type": "code",
   "execution_count": 15,
   "id": "637c29ad-5f09-4b70-a509-656e32de7043",
   "metadata": {
    "scrolled": true
   },
   "outputs": [
    {
     "data": {
      "text/html": [
       "<div>\n",
       "<style scoped>\n",
       "    .dataframe tbody tr th:only-of-type {\n",
       "        vertical-align: middle;\n",
       "    }\n",
       "\n",
       "    .dataframe tbody tr th {\n",
       "        vertical-align: top;\n",
       "    }\n",
       "\n",
       "    .dataframe thead th {\n",
       "        text-align: right;\n",
       "    }\n",
       "</style>\n",
       "<table border=\"1\" class=\"dataframe\">\n",
       "  <thead>\n",
       "    <tr style=\"text-align: right;\">\n",
       "      <th></th>\n",
       "      <th>patent_id</th>\n",
       "      <th>patent_date</th>\n",
       "      <th>patent_title</th>\n",
       "      <th>patent_abstract</th>\n",
       "    </tr>\n",
       "  </thead>\n",
       "  <tbody>\n",
       "    <tr>\n",
       "      <th>0</th>\n",
       "      <td>10000000</td>\n",
       "      <td>6/19/2018</td>\n",
       "      <td>Coherent LADAR using intra-pixel quadrature de...</td>\n",
       "      <td>A frequency modulated (coherent) laser detecti...</td>\n",
       "    </tr>\n",
       "    <tr>\n",
       "      <th>1</th>\n",
       "      <td>10000001</td>\n",
       "      <td>6/19/2018</td>\n",
       "      <td>Injection molding machine and mold thickness c...</td>\n",
       "      <td>The injection molding machine includes a fixed...</td>\n",
       "    </tr>\n",
       "    <tr>\n",
       "      <th>2</th>\n",
       "      <td>10000002</td>\n",
       "      <td>6/19/2018</td>\n",
       "      <td>Method for manufacturing polymer film and co-e...</td>\n",
       "      <td>The present invention relates to: a method for...</td>\n",
       "    </tr>\n",
       "    <tr>\n",
       "      <th>3</th>\n",
       "      <td>10000003</td>\n",
       "      <td>6/19/2018</td>\n",
       "      <td>Method for producing a container from a thermo...</td>\n",
       "      <td>The invention relates to a method for producin...</td>\n",
       "    </tr>\n",
       "    <tr>\n",
       "      <th>4</th>\n",
       "      <td>10000004</td>\n",
       "      <td>6/19/2018</td>\n",
       "      <td>Process of obtaining a double-oriented film, c...</td>\n",
       "      <td>The present invention relates to provides a do...</td>\n",
       "    </tr>\n",
       "  </tbody>\n",
       "</table>\n",
       "</div>"
      ],
      "text/plain": [
       "   patent_id patent_date                                       patent_title  \\\n",
       "0   10000000   6/19/2018  Coherent LADAR using intra-pixel quadrature de...   \n",
       "1   10000001   6/19/2018  Injection molding machine and mold thickness c...   \n",
       "2   10000002   6/19/2018  Method for manufacturing polymer film and co-e...   \n",
       "3   10000003   6/19/2018  Method for producing a container from a thermo...   \n",
       "4   10000004   6/19/2018  Process of obtaining a double-oriented film, c...   \n",
       "\n",
       "                                     patent_abstract  \n",
       "0  A frequency modulated (coherent) laser detecti...  \n",
       "1  The injection molding machine includes a fixed...  \n",
       "2  The present invention relates to: a method for...  \n",
       "3  The invention relates to a method for producin...  \n",
       "4  The present invention relates to provides a do...  "
      ]
     },
     "execution_count": 15,
     "metadata": {},
     "output_type": "execute_result"
    }
   ],
   "source": [
    "#df = pd.read_csv(\"patent-1k-clean.csv\")\n",
    "df = pd.read_csv(\"patent-1m-clean.csv\")\n",
    "\n",
    "df.head()\n",
    "\n",
    "# Models -> all-minilm (384), nomic-embed-text (768), mxbai-embed-large (1024)"
   ]
  },
  {
   "cell_type": "code",
   "execution_count": 16,
   "id": "2507d042-b0d2-4ed1-835e-80fdee572eb3",
   "metadata": {},
   "outputs": [],
   "source": [
    "# Read embeddings\n",
    "# 1k_min_title.npy, 1k_medium_title.npy, 1k_large_title.npy, 1k_min_abstract.npy, 1k_medium_abstract.npy, 1k_large_abstract.npy\n",
    "#title_dict = np.load('1k_min_title.npy', allow_pickle=True)\n",
    "#title_dict = np.load('1k_large_title.npy', allow_pickle=True)\n",
    "#title_dict = np.load('1m_min_title.npy', allow_pickle=True)\n",
    "#title_dict = np.load('1m_max_title.npy', allow_pickle=True)\n",
    "#title_dict = np.load('1k_large_abstract.npy', allow_pickle=True)\n",
    "title_dict = np.load('1m_large_abstract.npy', allow_pickle=True)"
   ]
  },
  {
   "cell_type": "code",
   "execution_count": 17,
   "id": "f0786058-334d-49f6-9650-ad2b639bb66c",
   "metadata": {},
   "outputs": [
    {
     "data": {
      "text/plain": [
       "numpy.ndarray"
      ]
     },
     "execution_count": 17,
     "metadata": {},
     "output_type": "execute_result"
    }
   ],
   "source": [
    "type(title_dict)"
   ]
  },
  {
   "cell_type": "code",
   "execution_count": 8,
   "id": "6ae01d9e-8571-4af8-9c04-52fe6a88c970",
   "metadata": {},
   "outputs": [
    {
     "name": "stdout",
     "output_type": "stream",
     "text": [
      "High kinetic energy penetrator shielding and high wear resistance materials fabricated with boron nitride nanotubes (BNNTS) and BNNT polymer composites\n"
     ]
    }
   ],
   "source": [
    "#print(title_dict)\n",
    "#list(title_dict)\n",
    "xyz = title_dict.tolist()\n",
    "#type(xyz)\n",
    "#xyz[10000000]\n",
    "keys = xyz.keys()\n",
    "#len(keys)\n",
    "#keys\n",
    "# d = dict(enumerate(title_dict.flatten(), 1))\n",
    "# len(d)\n",
    "#df['patent_id'].loc(10000036)\n",
    "rrr = df.loc[df['patent_id'] == 10000036]\n",
    "print(rrr['patent_title'].values[0])\n",
    "#print(rrr)"
   ]
  },
  {
   "cell_type": "code",
   "execution_count": 30,
   "id": "03215c07-250e-4c7c-bcc0-114b4089ac1e",
   "metadata": {},
   "outputs": [
    {
     "name": "stdout",
     "output_type": "stream",
     "text": [
      "19:47:34\n"
     ]
    }
   ],
   "source": [
    "# for index, row in df.iterrows():\n",
    "#      #print(row[\"c1\"], row[\"c2\"])\n",
    "#     print(row[\"patent_id\"])\n",
    "\n",
    "# for row in df.itertuples(index=False):\n",
    "#     print(row[df.columns.get_loc('patent_id')])\n",
    "\n",
    "# for index, row in smaller_df.iterrows():\n",
    "#     print(row[\"patent_id\"])\n",
    "\n",
    "# for row in smaller_df.itertuples(index=False):\n",
    "#     print(row[smaller_df.columns.get_loc('patent_id')])\n",
    "\n",
    "t = time.localtime()\n",
    "current_time = time.strftime(\"%H:%M:%S\", t)\n",
    "print(current_time)"
   ]
  },
  {
   "cell_type": "code",
   "execution_count": 6,
   "id": "464ba56a-9e4a-494b-bf1c-61ab47b7e00e",
   "metadata": {},
   "outputs": [],
   "source": [
    "#Get Embedding for My Patent Title\n",
    "my_patent_title = 'Switch With Diagnostic Capability'\n",
    "my_patent_title_response = ollama.embeddings(model=\"all-minilm\", prompt=my_patent_title)\n",
    "#my_patent_title_response = ollama.embeddings(model=\"mxbai-embed-large\", prompt=my_patent_title)\n",
    "info = list(my_patent_title_response.values())[0]\n",
    "#patent_ids = \n",
    "len(info)\n",
    "info_arr = np.array(info)\n",
    "#len(my_patent_title_response)"
   ]
  },
  {
   "cell_type": "code",
   "execution_count": 7,
   "id": "97a0ce78-e89e-47e0-86f9-7b6d26e8eac0",
   "metadata": {},
   "outputs": [],
   "source": [
    "size = 384\n",
    "default_value = 0.5\n",
    "\n",
    "# Create a list with the specified size filled with a default value using a for loop\n",
    "my_list = []\n",
    "for _ in range(size):\n",
    "    my_list.append(default_value)\n",
    "\n",
    "arr = np.array(my_list)"
   ]
  },
  {
   "cell_type": "code",
   "execution_count": 10,
   "id": "1a217437-807a-4a91-b020-157fdd2a997b",
   "metadata": {},
   "outputs": [
    {
     "ename": "NameError",
     "evalue": "name 'arr' is not defined",
     "output_type": "error",
     "traceback": [
      "\u001b[1;31m---------------------------------------------------------------------------\u001b[0m",
      "\u001b[1;31mNameError\u001b[0m                                 Traceback (most recent call last)",
      "Cell \u001b[1;32mIn[10], line 19\u001b[0m\n\u001b[0;32m     11\u001b[0m \u001b[38;5;66;03m# # Example vectors\u001b[39;00m\n\u001b[0;32m     12\u001b[0m \u001b[38;5;66;03m# embedding1 = np.array([0.2, 0.5, 0.8])\u001b[39;00m\n\u001b[0;32m     13\u001b[0m \u001b[38;5;66;03m# embedding2 = np.array([0.1, 0.6, 0.7])\u001b[39;00m\n\u001b[0;32m     14\u001b[0m \n\u001b[0;32m     15\u001b[0m \u001b[38;5;66;03m# # Calculate cosine similarity\u001b[39;00m\n\u001b[0;32m     16\u001b[0m \u001b[38;5;66;03m# similarity = cosine_sim(embedding1, embedding2)\u001b[39;00m\n\u001b[0;32m     18\u001b[0m start \u001b[38;5;241m=\u001b[39m time\u001b[38;5;241m.\u001b[39mtime()\n\u001b[1;32m---> 19\u001b[0m similarity \u001b[38;5;241m=\u001b[39m cosine_sim(\u001b[43marr\u001b[49m, info_arr)\n\u001b[0;32m     20\u001b[0m end \u001b[38;5;241m=\u001b[39m time\u001b[38;5;241m.\u001b[39mtime()\n\u001b[0;32m     21\u001b[0m dtime \u001b[38;5;241m=\u001b[39m \u001b[38;5;124m\"\u001b[39m\u001b[38;5;124mExecution time = \u001b[39m\u001b[38;5;124m\"\u001b[39m \u001b[38;5;241m+\u001b[39m \u001b[38;5;28mstr\u001b[39m(end \u001b[38;5;241m-\u001b[39m start)\n",
      "\u001b[1;31mNameError\u001b[0m: name 'arr' is not defined"
     ]
    }
   ],
   "source": [
    "# Compare My Patent Title Embedding to the other embeddings and find the closest title\n",
    "# I need to track PatentID of closest title, and then find the title from the CSV file\n",
    "# Cosine Simularity\n",
    "\n",
    "def cosine_sim(vec1, vec2):\n",
    "    \"\"\"\n",
    "    Calculates the cosine similarity between two vectors.\n",
    "    \"\"\"\n",
    "    return cosine_similarity([vec1], [vec2])[0][0]\n",
    "\n",
    "# # Example vectors\n",
    "# embedding1 = np.array([0.2, 0.5, 0.8])\n",
    "# embedding2 = np.array([0.1, 0.6, 0.7])\n",
    "\n",
    "# # Calculate cosine similarity\n",
    "# similarity = cosine_sim(embedding1, embedding2)\n",
    "\n",
    "start = time.time()\n",
    "similarity = cosine_sim(arr, info_arr)\n",
    "end = time.time()\n",
    "dtime = \"Execution time = \" + str(end - start)\n",
    "print(dtime)\n",
    "\n",
    "print(\"Cosine Similarity:\", similarity)"
   ]
  },
  {
   "cell_type": "code",
   "execution_count": 11,
   "id": "c5b5da69-1558-4e85-bfcc-2b8254381b3b",
   "metadata": {},
   "outputs": [],
   "source": [
    "# Try to Speed up Simularity with Numba\n",
    "@jit(nopython=True)\n",
    "def cosine_similarity_numba(a, b):\n",
    "    dot = np.dot(a, b)\n",
    "    norm_a = np.linalg.norm(a)\n",
    "    norm_b = np.linalg.norm(b)\n",
    "    return dot / (norm_a * norm_b)"
   ]
  },
  {
   "cell_type": "code",
   "execution_count": 22,
   "id": "638d7b0e-e159-4679-8b17-a27fe37649bc",
   "metadata": {},
   "outputs": [
    {
     "data": {
      "text/plain": [
       "999"
      ]
     },
     "execution_count": 22,
     "metadata": {},
     "output_type": "execute_result"
    }
   ],
   "source": [
    "len(patents_dict)"
   ]
  },
  {
   "cell_type": "code",
   "execution_count": 18,
   "id": "9f3ad1f5-9d9c-4de2-a3dc-a39d68c2a876",
   "metadata": {},
   "outputs": [
    {
     "name": "stderr",
     "output_type": "stream",
     "text": [
      "100%|████████████████████████████████████████████████████████████████████| 1048575/1048575 [00:05<00:00, 204213.64it/s]"
     ]
    },
    {
     "name": "stdout",
     "output_type": "stream",
     "text": [
      "Max Simularity = 0.827431031751498\n",
      "Patent ID with Max Simularity = 10502806\n",
      "Most simular patent, by abstract is -> Devices and methods are provided where switches associated with a magnetic field sensor are used to provide error information. In particular, a device is provided that includes a magnetic field sensor, a plurality of switches associated with the magnetic field sensor, and a control circuit configured to control the plurality of switches and to provide at least one signal indicative of a fault based on operation of the switches.\n",
      "Execution time = 5.138123989105225\n"
     ]
    },
    {
     "name": "stderr",
     "output_type": "stream",
     "text": [
      "\n"
     ]
    }
   ],
   "source": [
    "#Get Embedding for My Patent Title\n",
    "#my_patent_title = 'Switch With Diagnostic Capability'\n",
    "my_patent_title = 'A switch is provided with the ability to diagnose its own operation and provide signals that represent the actuation of \\\n",
    "the switch and various diagnostic outputs that indicate fault conditions or potential fault conditions with regard to either \\\n",
    "the switch or related machinery. A magnetically sensitive component, such as a Hall element, is used to provide an \\\n",
    "analog output signal that is representative of the position of an actuator to which a magnet structure is rigidly attached. \\\n",
    "As the actuator moves in response to an external force, the magnet structure moves with respect to a stationary magnetically sensitive \\\n",
    "component. The analog output from the magnetically sensitive component can be used to determine the position of the switch. Based on information, \\\n",
    "a microprocessor provides a binary output signal indicating whether the switch is actuated or deactuated. In addition, the \\\n",
    "movement of the actuator can be compared to various thresholds to determine the operate point, the overtravel point, the total travel and the velocity of the switch plunger.'\n",
    "#my_patent_title_response = ollama.embeddings(model=\"all-minilm\", prompt=my_patent_title)\n",
    "my_patent_title_response = ollama.embeddings(model=\"mxbai-embed-large\", prompt=my_patent_title)\n",
    "info = list(my_patent_title_response.values())[0]\n",
    "my_patent_title_arr = np.array(info)\n",
    "\n",
    "patents_dict = title_dict.tolist()\n",
    "\n",
    "max_simularity = -10.0\n",
    "max_key = -10\n",
    "\n",
    "#print(\"Length of patents diction = \" + len(patents_dict.items()))\n",
    "#print(\"Length of patents dictionary = \" + str(len(patents_dict)))\n",
    "\n",
    "start = time.time()\n",
    "\n",
    "my_counter = 0\n",
    "\n",
    "#for item in patents_dict.items():\n",
    "#for key, value in patents_dict.items():\n",
    "for key, value in tqdm (patents_dict.items()):\n",
    "    # if (my_counter % 100000) == 0:\n",
    "    #     print(my_counter)\n",
    "    #     t = time.localtime()\n",
    "    #     current_time = time.strftime(\"%H:%M:%S\", t)\n",
    "    #     print(current_time)\n",
    "    my_counter += 1\n",
    "    #similarity = cosine_sim(my_patent_title_arr, value)\n",
    "    similarity = cosine_similarity_numba(my_patent_title_arr, value)\n",
    "    if similarity > max_simularity:\n",
    "        max_simularity = similarity\n",
    "        max_key = key\n",
    "\n",
    "print(\"Max Simularity = \" + str(max_simularity))\n",
    "print(\"Patent ID with Max Simularity = \" + str(max_key))\n",
    "rrr = df.loc[df['patent_id'] == max_key]\n",
    "#print(\"Most simular patent, by title is -> \" + rrr['patent_title'].values[0])\n",
    "print(\"Most simular patent, by abstract is -> \" + rrr['patent_abstract'].values[0])\n",
    "end = time.time()\n",
    "dtime = \"Execution time = \" + str(end - start)\n",
    "print(dtime)"
   ]
  },
  {
   "cell_type": "code",
   "execution_count": 102,
   "id": "417b0b53-db60-43ad-8c52-47312a3d65e0",
   "metadata": {},
   "outputs": [
    {
     "data": {
      "text/plain": [
       "'Magnetic field sensor'"
      ]
     },
     "execution_count": 102,
     "metadata": {},
     "output_type": "execute_result"
    }
   ],
   "source": [
    "rrr = df.loc[df['patent_id'] == 10502806]\n",
    "rrr['patent_title'].values[0]"
   ]
  },
  {
   "cell_type": "code",
   "execution_count": 68,
   "id": "acf43b0e-000f-4789-9a3c-ae4ae2dba4e0",
   "metadata": {
    "scrolled": true
   },
   "outputs": [
    {
     "name": "stdout",
     "output_type": "stream",
     "text": [
      "Execution time = 1192.223415851593\n"
     ]
    }
   ],
   "source": [
    "# start = time.time()\n",
    "# #response = ollama.embeddings(model=\"all-minilm\", prompt=doc1)\n",
    "\n",
    "# me_index = 0\n",
    "\n",
    "# title_dict = {}\n",
    "\n",
    "# #for row in smaller_df.itertuples(index=False):\n",
    "# for row in df.itertuples(index=False):\n",
    "# #for row in df.iterrows():\n",
    "#     #print(row[smaller_df.columns.get_loc('patent_id')])\n",
    "#     #response = ollama.embeddings(model=\"all-minilm\", prompt=row[smaller_df.columns.get_loc('patent_title')])\n",
    "#     #response = ollama.embeddings(model=\"nomic-embed-text\", prompt=row[smaller_df.columns.get_loc('patent_title')])\n",
    "#     #response = ollama.embeddings(model=\"mxbai-embed-large\", prompt=row[smaller_df.columns.get_loc('patent_title')])\n",
    "#     #response = ollama.embeddings(model=\"all-minilm\", prompt=row[df.columns.get_loc('patent_title')])\n",
    "#     #response = ollama.embeddings(model=\"nomic-embed-text\", prompt=row[df.columns.get_loc('patent_title')])\n",
    "#     #response = ollama.embeddings(model=\"mxbai-embed-large\", prompt=row[df.columns.get_loc('patent_title')])\n",
    "#     #response = ollama.embeddings(model=\"all-minilm\", prompt=row[df.columns.get_loc('patent_abstract')])\n",
    "#     #response = ollama.embeddings(model=\"nomic-embed-text\", prompt=row[df.columns.get_loc('patent_abstract')])\n",
    "#     response = ollama.embeddings(model=\"mxbai-embed-large\", prompt=row[df.columns.get_loc('patent_abstract')])\n",
    "\n",
    "#     # if me_index == -1:\n",
    "#     #     val = list(response.values())[0]\n",
    "#     #     #print(val)\n",
    "#     #     print(len(val))\n",
    "#     info = list(response.values())[0]\n",
    "#     arr_info = np.array(info)\n",
    "#     title_dict[row.patent_id] = arr_info\n",
    "#     #print(row.patent_id)\n",
    "#     me_index += 1\n",
    "\n",
    "# end = time.time()\n",
    "# dtime = \"Execution time = \" + str(end - start)\n",
    "# print(dtime)"
   ]
  },
  {
   "cell_type": "code",
   "execution_count": null,
   "id": "fa5c275e-f864-4352-9a19-2130cb169d61",
   "metadata": {},
   "outputs": [],
   "source": []
  }
 ],
 "metadata": {
  "kernelspec": {
   "display_name": "Python 3 (ipykernel)",
   "language": "python",
   "name": "python3"
  },
  "language_info": {
   "codemirror_mode": {
    "name": "ipython",
    "version": 3
   },
   "file_extension": ".py",
   "mimetype": "text/x-python",
   "name": "python",
   "nbconvert_exporter": "python",
   "pygments_lexer": "ipython3",
   "version": "3.8.19"
  }
 },
 "nbformat": 4,
 "nbformat_minor": 5
}
