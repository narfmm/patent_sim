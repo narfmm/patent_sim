{
 "cells": [
  {
   "cell_type": "code",
   "execution_count": 35,
   "id": "8fd88149",
   "metadata": {},
   "outputs": [],
   "source": [
    "# Create Patent Vector Embeddings with Ollama\n",
    "# Perry Holman, Ph.D. 10-25-24\n",
    "import ollama\n",
    "import time\n",
    "import pandas as pd\n",
    "import numpy as np"
   ]
  },
  {
   "cell_type": "code",
   "execution_count": 2,
   "id": "637c29ad-5f09-4b70-a509-656e32de7043",
   "metadata": {
    "scrolled": true
   },
   "outputs": [
    {
     "data": {
      "text/html": [
       "<div>\n",
       "<style scoped>\n",
       "    .dataframe tbody tr th:only-of-type {\n",
       "        vertical-align: middle;\n",
       "    }\n",
       "\n",
       "    .dataframe tbody tr th {\n",
       "        vertical-align: top;\n",
       "    }\n",
       "\n",
       "    .dataframe thead th {\n",
       "        text-align: right;\n",
       "    }\n",
       "</style>\n",
       "<table border=\"1\" class=\"dataframe\">\n",
       "  <thead>\n",
       "    <tr style=\"text-align: right;\">\n",
       "      <th></th>\n",
       "      <th>patent_id</th>\n",
       "      <th>patent_date</th>\n",
       "      <th>patent_title</th>\n",
       "      <th>patent_abstract</th>\n",
       "    </tr>\n",
       "  </thead>\n",
       "  <tbody>\n",
       "    <tr>\n",
       "      <th>0</th>\n",
       "      <td>10000000</td>\n",
       "      <td>6/19/2018</td>\n",
       "      <td>Coherent LADAR using intra-pixel quadrature de...</td>\n",
       "      <td>A frequency modulated (coherent) laser detecti...</td>\n",
       "    </tr>\n",
       "    <tr>\n",
       "      <th>1</th>\n",
       "      <td>10000001</td>\n",
       "      <td>6/19/2018</td>\n",
       "      <td>Injection molding machine and mold thickness c...</td>\n",
       "      <td>The injection molding machine includes a fixed...</td>\n",
       "    </tr>\n",
       "    <tr>\n",
       "      <th>2</th>\n",
       "      <td>10000002</td>\n",
       "      <td>6/19/2018</td>\n",
       "      <td>Method for manufacturing polymer film and co-e...</td>\n",
       "      <td>The present invention relates to: a method for...</td>\n",
       "    </tr>\n",
       "    <tr>\n",
       "      <th>3</th>\n",
       "      <td>10000003</td>\n",
       "      <td>6/19/2018</td>\n",
       "      <td>Method for producing a container from a thermo...</td>\n",
       "      <td>The invention relates to a method for producin...</td>\n",
       "    </tr>\n",
       "    <tr>\n",
       "      <th>4</th>\n",
       "      <td>10000004</td>\n",
       "      <td>6/19/2018</td>\n",
       "      <td>Process of obtaining a double-oriented film, c...</td>\n",
       "      <td>The present invention relates to provides a do...</td>\n",
       "    </tr>\n",
       "  </tbody>\n",
       "</table>\n",
       "</div>"
      ],
      "text/plain": [
       "   patent_id patent_date                                       patent_title  \\\n",
       "0   10000000   6/19/2018  Coherent LADAR using intra-pixel quadrature de...   \n",
       "1   10000001   6/19/2018  Injection molding machine and mold thickness c...   \n",
       "2   10000002   6/19/2018  Method for manufacturing polymer film and co-e...   \n",
       "3   10000003   6/19/2018  Method for producing a container from a thermo...   \n",
       "4   10000004   6/19/2018  Process of obtaining a double-oriented film, c...   \n",
       "\n",
       "                                     patent_abstract  \n",
       "0  A frequency modulated (coherent) laser detecti...  \n",
       "1  The injection molding machine includes a fixed...  \n",
       "2  The present invention relates to: a method for...  \n",
       "3  The invention relates to a method for producin...  \n",
       "4  The present invention relates to provides a do...  "
      ]
     },
     "execution_count": 2,
     "metadata": {},
     "output_type": "execute_result"
    }
   ],
   "source": [
    "df = pd.read_csv(\"patent-1k-clean.csv\")\n",
    "\n",
    "df.head()\n",
    "\n",
    "# Models -> all-minilm (384), nomic-embed-text (768), mxbai-embed-large (1024)"
   ]
  },
  {
   "cell_type": "code",
   "execution_count": 68,
   "id": "acf43b0e-000f-4789-9a3c-ae4ae2dba4e0",
   "metadata": {
    "scrolled": true
   },
   "outputs": [
    {
     "name": "stdout",
     "output_type": "stream",
     "text": [
      "Execution time = 1192.223415851593\n"
     ]
    }
   ],
   "source": [
    "start = time.time()\n",
    "\n",
    "me_index = 0\n",
    "\n",
    "title_dict = {}\n",
    "\n",
    "for row in df.itertuples(index=False):\n",
    "    #print(row[smaller_df.columns.get_loc('patent_id')])\n",
    "    #response = ollama.embeddings(model=\"all-minilm\", prompt=row[smaller_df.columns.get_loc('patent_title')])\n",
    "    #response = ollama.embeddings(model=\"nomic-embed-text\", prompt=row[smaller_df.columns.get_loc('patent_title')])\n",
    "    #response = ollama.embeddings(model=\"mxbai-embed-large\", prompt=row[smaller_df.columns.get_loc('patent_title')])\n",
    "    #response = ollama.embeddings(model=\"all-minilm\", prompt=row[df.columns.get_loc('patent_title')])\n",
    "    #response = ollama.embeddings(model=\"nomic-embed-text\", prompt=row[df.columns.get_loc('patent_title')])\n",
    "    #response = ollama.embeddings(model=\"mxbai-embed-large\", prompt=row[df.columns.get_loc('patent_title')])\n",
    "    #response = ollama.embeddings(model=\"all-minilm\", prompt=row[df.columns.get_loc('patent_abstract')])\n",
    "    #response = ollama.embeddings(model=\"nomic-embed-text\", prompt=row[df.columns.get_loc('patent_abstract')])\n",
    "    response = ollama.embeddings(model=\"mxbai-embed-large\", prompt=row[df.columns.get_loc('patent_abstract')])\n",
    "\n",
    "    info = list(response.values())[0]\n",
    "    arr_info = np.array(info)\n",
    "    title_dict[row.patent_id] = arr_info\n",
    "    #print(row.patent_id)\n",
    "    me_index += 1\n",
    "\n",
    "end = time.time()\n",
    "dtime = \"Execution time = \" + str(end - start)\n",
    "print(dtime)"
   ]
  },
  {
   "cell_type": "code",
   "execution_count": 69,
   "id": "46a727b2-b7fa-4be8-9667-cdce7b269b7d",
   "metadata": {},
   "outputs": [],
   "source": [
    "np.save('1k_large_abstract.npy', title_dict)"
   ]
  }
 ],
 "metadata": {
  "kernelspec": {
   "display_name": "Python 3 (ipykernel)",
   "language": "python",
   "name": "python3"
  },
  "language_info": {
   "codemirror_mode": {
    "name": "ipython",
    "version": 3
   },
   "file_extension": ".py",
   "mimetype": "text/x-python",
   "name": "python",
   "nbconvert_exporter": "python",
   "pygments_lexer": "ipython3",
   "version": "3.10.9"
  }
 },
 "nbformat": 4,
 "nbformat_minor": 5
}
